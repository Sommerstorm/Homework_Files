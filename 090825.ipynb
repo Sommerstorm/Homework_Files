{
 "cells": [
  {
   "cell_type": "markdown",
   "id": "c5e502ee",
   "metadata": {},
   "source": [
    "Using the paper Distribution of exponentiality in miniature endplate current decay by B W Madsen, R O Edeson, & R K Milne."
   ]
  },
  {
   "cell_type": "code",
   "execution_count": null,
   "id": "fe0bd803",
   "metadata": {},
   "outputs": [],
   "source": [
    "import numpy as np\n",
    "import matplotlib.pyplot as plt\n",
    "\n",
    "# Parameters (from Katz & Miledi MEPC decay papers)\n",
    "I0 = 1.0        # peak amplitude \n",
    "tau = 1.5       # decay time constant in ms (\n",
    "t = np.linspace(0, 10, 1000)  # time in ms\n",
    "\n",
    "# Ideal exponential decay\n",
    "I = I0 * np.exp(-t / tau)\n",
    "\n",
    "# Add some Gaussian noise to simulate recording noise\n",
    "noise = np.random.normal(0, 0.05, size=t.shape)\n",
    "I_noisy = I + noise\n",
    "\n",
    "# Plot\n",
    "plt.figure(figsize=(8,5))\n",
    "plt.plot(t, I, 'k--', label=f'Exponential decay (τ={tau} ms)')\n",
    "plt.plot(t, I_noisy, 'b', alpha=0.6, label='Simulated noisy MEPC')\n",
    "plt.xlabel(\"Time (ms)\")\n",
    "plt.ylabel(\"Current (a.u.)\")\n",
    "plt.title(\"Exponential Decay of Miniature Endplate Current (MEPC)\")\n",
    "plt.legend()\n",
    "plt.show()"
   ]
  }
 ],
 "metadata": {
  "language_info": {
   "name": "python"
  }
 },
 "nbformat": 4,
 "nbformat_minor": 5
}
